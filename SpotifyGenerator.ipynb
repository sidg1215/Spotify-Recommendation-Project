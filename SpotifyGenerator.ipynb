{
 "cells": [
  {
   "cell_type": "code",
   "execution_count": 1,
   "id": "ebdb4007",
   "metadata": {},
   "outputs": [],
   "source": [
    "import spotipy\n",
    "from spotipy.oauth2 import SpotifyOAuth\n",
    "\n",
    "scope = \"user-library-read\"\n",
    "\n",
    "auth = SpotifyOAuth(client_id=\"75bb7a00dee045f694a684ca5617dd08\",\n",
    "                   client_secret=\"abdedf81e2bf4ee5accd0f7a1c8317c9\",\n",
    "                   redirect_uri=\"https://www.google.com/\",\n",
    "                   scope=scope)\n",
    "sp = spotipy.Spotify(auth_manager=auth)"
   ]
  },
  {
   "cell_type": "code",
   "execution_count": 2,
   "id": "8e61dac2",
   "metadata": {},
   "outputs": [],
   "source": [
    "import pandas as pd\n",
    "from sklearn.preprocessing import MultiLabelBinarizer\n",
    "from sklearn.feature_extraction.text import TfidfVectorizer\n",
    "from sklearn.preprocessing import MinMaxScaler\n",
    "import numpy as np"
   ]
  },
  {
   "cell_type": "code",
   "execution_count": 3,
   "id": "325ab852",
   "metadata": {},
   "outputs": [],
   "source": [
    "def extract_tracks_data(playlist_id):\n",
    "    '''\n",
    "    ids = []\n",
    "    track_names = []\n",
    "    artistGenres = []\n",
    "    popularities = []\n",
    "    print('-')\n",
    "    playlist_tracks = sp.playlist_tracks(playlist_id=playlist_id)\n",
    "    print('--')\n",
    "    for item in playlist_tracks[\"items\"]:\n",
    "        if (item[\"track\"] != None):\n",
    "            artistId = item[\"track\"][\"album\"][\"artists\"][0][\"id\"]\n",
    "            ids.append(item[\"track\"][\"id\"])\n",
    "            popularities.append(item[\"track\"][\"popularity\"])\n",
    "            artistGenres.append(sp.artist(artistId)[\"genres\"])\n",
    "            track_names.append(item[\"track\"][\"name\"])\n",
    "    print(\"---\")\n",
    "    return ids, track_names, artistGenres, popularities\n",
    "    '''\n",
    "    playlist = pd.DataFrame(sp.playlist_tracks(playlist_id=playlist_id)[\"items\"])\n",
    "    playlist = pd.DataFrame(list(filter(lambda x : x != None, playlist[\"track\"])))\n",
    "    playlist[\"track_id\"] = playlist[\"id\"]\n",
    "    artistIds = pd.DataFrame(\n",
    "        pd.DataFrame(pd.DataFrame(playlist[\"album\"].tolist())[\"artists\"].tolist())[0].tolist())[\"id\"]\n",
    "    trackNames = playlist[\"name\"]\n",
    "    #artistGenres = list(map((lambda artistId : sp.artist(artistId)[\"genres\"]), artistIds.tolist()))\n",
    "    frame = pd.DataFrame()\n",
    "    frame[\"genres\"] = artistIds.apply((lambda artistId : sp.artist(artistId)[\"genres\"]))\n",
    "    frame[\"genres\"] = frame[\"genres\"].apply(lambda x : [y.replace(\" \", \"_\") for y in x])\n",
    "    \n",
    "    return playlist.filter([\"name\",\"track_id\", \"popularity\"]).join(artistIds).join(frame[\"genres\"])"
   ]
  },
  {
   "cell_type": "code",
   "execution_count": 4,
   "id": "3da7c46c",
   "metadata": {},
   "outputs": [],
   "source": [
    "def extract_features(playlist_id):\n",
    "    '''\n",
    "    extracts features from a playlist\n",
    "    '''\n",
    "    '''\n",
    "    ids, track_names, artistGenres, popularities = extract_tracks_data(playlist_id)\n",
    "    print(\"hello\")\n",
    "    idToData = {} \n",
    "    data = sp.audio_features(tracks=ids)\n",
    "    for i in range(0, len(track_names)):\n",
    "        data[i][\"genres\"] = [x.replace(\" \", \"_\") for x in artistGenres[i]]\n",
    "        data[i][\"popularity\"] = popularities[i]\n",
    "        idToData[track_names[i]] = data[i]\n",
    "    '''\n",
    "    df = extract_tracks_data(playlist_id)\n",
    "    data = pd.DataFrame(sp.audio_features(tracks=df[\"track_id\"].tolist()))\n",
    "    df = df.join(data.filter([\"danceability\",\"energy\",\"key\",\"loudness\",\"mode\",\"speechiness\",\"acousticness\",\"instrumentalness\",\"liveness\",\"valence\",\"tempo\"]))\n",
    "    #df = pd.DataFrame(idToData).transpose()[[\"danceability\",\"energy\",\"key\",\"loudness\",\"mode\",\"speechiness\",\"acousticness\",\"instrumentalness\",\"liveness\",\"valence\",\"tempo\", \"genres\", \"popularity\"]]\n",
    "    tf = TfidfVectorizer()\n",
    "    df = df.join(pd.DataFrame(tf.fit_transform(df[\"genres\"].apply((lambda x : \" \".join(x)))).toarray(),\n",
    "                     columns=tf.get_feature_names()))\n",
    "    scaler = MinMaxScaler(feature_range=(0,1))\n",
    "    for column in df.columns:\n",
    "        badCols = tf.get_feature_names()\n",
    "        badCols.append(\"genres\")\n",
    "        badCols.append(\"name\")\n",
    "        badCols.append(\"track_id\")\n",
    "        badCols.append(\"id\")\n",
    "        if (column not in badCols):\n",
    "            data = df[column]\n",
    "            df[column] = scaler.fit_transform(np.float32(data).reshape(len(data), 1))\n",
    "    return df[[\"name\", \"track_id\", \"id\",\"genres\"]], df.loc[:, ~df.columns.isin([\"name\", \"track_id\", \"id\",\"genres\"])]"
   ]
  },
  {
   "cell_type": "code",
   "execution_count": 5,
   "id": "bc9d649b",
   "metadata": {},
   "outputs": [],
   "source": [
    "def get_playlist_vector_and_features(playlist_url):\n",
    "    info, data = extract_features(playlist_url)\n",
    "    return info,data.sum(axis=0),data.columns "
   ]
  },
  {
   "cell_type": "code",
   "execution_count": 6,
   "id": "4ea4ae30",
   "metadata": {},
   "outputs": [],
   "source": [
    "from numpy import dot\n",
    "from numpy.linalg import norm\n",
    "def cosine_similarity(x,y):\n",
    "    x = np.array(x)\n",
    "    y = np.array(y)\n",
    "    cos_sim = dot(x,y)/(norm(x)*norm(y))\n",
    "    return cos_sim"
   ]
  },
  {
   "cell_type": "code",
   "execution_count": 7,
   "id": "dfaf749e",
   "metadata": {},
   "outputs": [],
   "source": [
    "def similar_songs(myPlaylistUrl, otherPlaylistUrl):\n",
    "    myInfo,myVector, myFeatures = get_playlist_vector_and_features(myPlaylistUrl)\n",
    "    otherPlaylistInfo,otherPlaylistFeatures = extract_features(otherPlaylistUrl)\n",
    "    commonFeatures = otherPlaylistFeatures.columns.intersection(myFeatures)\n",
    "    myVector = myVector[commonFeatures]\n",
    "    otherPlaylistFeatures = otherPlaylistFeatures[commonFeatures]\n",
    "    return otherPlaylistFeatures.apply(lambda x : cosine_similarity(myVector, \n",
    "                                                 x), axis = 1)"
   ]
  },
  {
   "cell_type": "code",
   "execution_count": 8,
   "id": "4dd1786e",
   "metadata": {},
   "outputs": [
    {
     "ename": "AttributeError",
     "evalue": "'NoneType' object has no attribute 'keys'",
     "output_type": "error",
     "traceback": [
      "\u001b[0;31m---------------------------------------------------------------------------\u001b[0m",
      "\u001b[0;31mAttributeError\u001b[0m                            Traceback (most recent call last)",
      "\u001b[0;32m<ipython-input-8-81a0d1d11be8>\u001b[0m in \u001b[0;36m<module>\u001b[0;34m\u001b[0m\n\u001b[0;32m----> 1\u001b[0;31m similar_songs(\"https://open.spotify.com/playlist/3OCVYiGIqURhQO5TVbrK7A?si=0b38a71016da464a\",\n\u001b[0m\u001b[1;32m      2\u001b[0m              \"https://open.spotify.com/playlist/0vvXsWCC9xrXsKd4FyS8kM?si=96fd28e8efc4481c\")\n",
      "\u001b[0;32m<ipython-input-7-acea3aeaf62d>\u001b[0m in \u001b[0;36msimilar_songs\u001b[0;34m(myPlaylistUrl, otherPlaylistUrl)\u001b[0m\n\u001b[1;32m      1\u001b[0m \u001b[0;32mdef\u001b[0m \u001b[0msimilar_songs\u001b[0m\u001b[0;34m(\u001b[0m\u001b[0mmyPlaylistUrl\u001b[0m\u001b[0;34m,\u001b[0m \u001b[0motherPlaylistUrl\u001b[0m\u001b[0;34m)\u001b[0m\u001b[0;34m:\u001b[0m\u001b[0;34m\u001b[0m\u001b[0;34m\u001b[0m\u001b[0m\n\u001b[1;32m      2\u001b[0m     \u001b[0mmyInfo\u001b[0m\u001b[0;34m,\u001b[0m\u001b[0mmyVector\u001b[0m\u001b[0;34m,\u001b[0m \u001b[0mmyFeatures\u001b[0m \u001b[0;34m=\u001b[0m \u001b[0mget_playlist_vector_and_features\u001b[0m\u001b[0;34m(\u001b[0m\u001b[0mmyPlaylistUrl\u001b[0m\u001b[0;34m)\u001b[0m\u001b[0;34m\u001b[0m\u001b[0;34m\u001b[0m\u001b[0m\n\u001b[0;32m----> 3\u001b[0;31m     \u001b[0motherPlaylistInfo\u001b[0m\u001b[0;34m,\u001b[0m\u001b[0motherPlaylistFeatures\u001b[0m \u001b[0;34m=\u001b[0m \u001b[0mextract_features\u001b[0m\u001b[0;34m(\u001b[0m\u001b[0motherPlaylistUrl\u001b[0m\u001b[0;34m)\u001b[0m\u001b[0;34m\u001b[0m\u001b[0;34m\u001b[0m\u001b[0m\n\u001b[0m\u001b[1;32m      4\u001b[0m     \u001b[0mcommonFeatures\u001b[0m \u001b[0;34m=\u001b[0m \u001b[0motherPlaylistFeatures\u001b[0m\u001b[0;34m.\u001b[0m\u001b[0mcolumns\u001b[0m\u001b[0;34m.\u001b[0m\u001b[0mintersection\u001b[0m\u001b[0;34m(\u001b[0m\u001b[0mmyFeatures\u001b[0m\u001b[0;34m)\u001b[0m\u001b[0;34m\u001b[0m\u001b[0;34m\u001b[0m\u001b[0m\n\u001b[1;32m      5\u001b[0m     \u001b[0mmyVector\u001b[0m \u001b[0;34m=\u001b[0m \u001b[0mmyVector\u001b[0m\u001b[0;34m[\u001b[0m\u001b[0mcommonFeatures\u001b[0m\u001b[0;34m]\u001b[0m\u001b[0;34m\u001b[0m\u001b[0;34m\u001b[0m\u001b[0m\n",
      "\u001b[0;32m<ipython-input-4-89f05e8db2af>\u001b[0m in \u001b[0;36mextract_features\u001b[0;34m(playlist_id)\u001b[0m\n\u001b[1;32m     14\u001b[0m     '''\n\u001b[1;32m     15\u001b[0m     \u001b[0mdf\u001b[0m \u001b[0;34m=\u001b[0m \u001b[0mextract_tracks_data\u001b[0m\u001b[0;34m(\u001b[0m\u001b[0mplaylist_id\u001b[0m\u001b[0;34m)\u001b[0m\u001b[0;34m\u001b[0m\u001b[0;34m\u001b[0m\u001b[0m\n\u001b[0;32m---> 16\u001b[0;31m     \u001b[0mdata\u001b[0m \u001b[0;34m=\u001b[0m \u001b[0mpd\u001b[0m\u001b[0;34m.\u001b[0m\u001b[0mDataFrame\u001b[0m\u001b[0;34m(\u001b[0m\u001b[0msp\u001b[0m\u001b[0;34m.\u001b[0m\u001b[0maudio_features\u001b[0m\u001b[0;34m(\u001b[0m\u001b[0mtracks\u001b[0m\u001b[0;34m=\u001b[0m\u001b[0mdf\u001b[0m\u001b[0;34m[\u001b[0m\u001b[0;34m\"track_id\"\u001b[0m\u001b[0;34m]\u001b[0m\u001b[0;34m.\u001b[0m\u001b[0mtolist\u001b[0m\u001b[0;34m(\u001b[0m\u001b[0;34m)\u001b[0m\u001b[0;34m)\u001b[0m\u001b[0;34m)\u001b[0m\u001b[0;34m\u001b[0m\u001b[0;34m\u001b[0m\u001b[0m\n\u001b[0m\u001b[1;32m     17\u001b[0m     \u001b[0mdf\u001b[0m \u001b[0;34m=\u001b[0m \u001b[0mdf\u001b[0m\u001b[0;34m.\u001b[0m\u001b[0mjoin\u001b[0m\u001b[0;34m(\u001b[0m\u001b[0mdata\u001b[0m\u001b[0;34m.\u001b[0m\u001b[0mfilter\u001b[0m\u001b[0;34m(\u001b[0m\u001b[0;34m[\u001b[0m\u001b[0;34m\"danceability\"\u001b[0m\u001b[0;34m,\u001b[0m\u001b[0;34m\"energy\"\u001b[0m\u001b[0;34m,\u001b[0m\u001b[0;34m\"key\"\u001b[0m\u001b[0;34m,\u001b[0m\u001b[0;34m\"loudness\"\u001b[0m\u001b[0;34m,\u001b[0m\u001b[0;34m\"mode\"\u001b[0m\u001b[0;34m,\u001b[0m\u001b[0;34m\"speechiness\"\u001b[0m\u001b[0;34m,\u001b[0m\u001b[0;34m\"acousticness\"\u001b[0m\u001b[0;34m,\u001b[0m\u001b[0;34m\"instrumentalness\"\u001b[0m\u001b[0;34m,\u001b[0m\u001b[0;34m\"liveness\"\u001b[0m\u001b[0;34m,\u001b[0m\u001b[0;34m\"valence\"\u001b[0m\u001b[0;34m,\u001b[0m\u001b[0;34m\"tempo\"\u001b[0m\u001b[0;34m]\u001b[0m\u001b[0;34m)\u001b[0m\u001b[0;34m)\u001b[0m\u001b[0;34m\u001b[0m\u001b[0;34m\u001b[0m\u001b[0m\n\u001b[1;32m     18\u001b[0m     \u001b[0;31m#df = pd.DataFrame(idToData).transpose()[[\"danceability\",\"energy\",\"key\",\"loudness\",\"mode\",\"speechiness\",\"acousticness\",\"instrumentalness\",\"liveness\",\"valence\",\"tempo\", \"genres\", \"popularity\"]]\u001b[0m\u001b[0;34m\u001b[0m\u001b[0;34m\u001b[0m\u001b[0;34m\u001b[0m\u001b[0m\n",
      "\u001b[0;32m~/anaconda3/lib/python3.8/site-packages/pandas/core/frame.py\u001b[0m in \u001b[0;36m__init__\u001b[0;34m(self, data, index, columns, dtype, copy)\u001b[0m\n\u001b[1;32m    568\u001b[0m                     \u001b[0;32mif\u001b[0m \u001b[0mis_named_tuple\u001b[0m\u001b[0;34m(\u001b[0m\u001b[0mdata\u001b[0m\u001b[0;34m[\u001b[0m\u001b[0;36m0\u001b[0m\u001b[0;34m]\u001b[0m\u001b[0;34m)\u001b[0m \u001b[0;32mand\u001b[0m \u001b[0mcolumns\u001b[0m \u001b[0;32mis\u001b[0m \u001b[0;32mNone\u001b[0m\u001b[0;34m:\u001b[0m\u001b[0;34m\u001b[0m\u001b[0;34m\u001b[0m\u001b[0m\n\u001b[1;32m    569\u001b[0m                         \u001b[0mcolumns\u001b[0m \u001b[0;34m=\u001b[0m \u001b[0mdata\u001b[0m\u001b[0;34m[\u001b[0m\u001b[0;36m0\u001b[0m\u001b[0;34m]\u001b[0m\u001b[0;34m.\u001b[0m\u001b[0m_fields\u001b[0m\u001b[0;34m\u001b[0m\u001b[0;34m\u001b[0m\u001b[0m\n\u001b[0;32m--> 570\u001b[0;31m                     \u001b[0marrays\u001b[0m\u001b[0;34m,\u001b[0m \u001b[0mcolumns\u001b[0m \u001b[0;34m=\u001b[0m \u001b[0mto_arrays\u001b[0m\u001b[0;34m(\u001b[0m\u001b[0mdata\u001b[0m\u001b[0;34m,\u001b[0m \u001b[0mcolumns\u001b[0m\u001b[0;34m,\u001b[0m \u001b[0mdtype\u001b[0m\u001b[0;34m=\u001b[0m\u001b[0mdtype\u001b[0m\u001b[0;34m)\u001b[0m\u001b[0;34m\u001b[0m\u001b[0;34m\u001b[0m\u001b[0m\n\u001b[0m\u001b[1;32m    571\u001b[0m                     \u001b[0mcolumns\u001b[0m \u001b[0;34m=\u001b[0m \u001b[0mensure_index\u001b[0m\u001b[0;34m(\u001b[0m\u001b[0mcolumns\u001b[0m\u001b[0;34m)\u001b[0m\u001b[0;34m\u001b[0m\u001b[0;34m\u001b[0m\u001b[0m\n\u001b[1;32m    572\u001b[0m \u001b[0;34m\u001b[0m\u001b[0m\n",
      "\u001b[0;32m~/anaconda3/lib/python3.8/site-packages/pandas/core/internals/construction.py\u001b[0m in \u001b[0;36mto_arrays\u001b[0;34m(data, columns, coerce_float, dtype)\u001b[0m\n\u001b[1;32m    528\u001b[0m         \u001b[0;32mreturn\u001b[0m \u001b[0m_list_to_arrays\u001b[0m\u001b[0;34m(\u001b[0m\u001b[0mdata\u001b[0m\u001b[0;34m,\u001b[0m \u001b[0mcolumns\u001b[0m\u001b[0;34m,\u001b[0m \u001b[0mcoerce_float\u001b[0m\u001b[0;34m=\u001b[0m\u001b[0mcoerce_float\u001b[0m\u001b[0;34m,\u001b[0m \u001b[0mdtype\u001b[0m\u001b[0;34m=\u001b[0m\u001b[0mdtype\u001b[0m\u001b[0;34m)\u001b[0m\u001b[0;34m\u001b[0m\u001b[0;34m\u001b[0m\u001b[0m\n\u001b[1;32m    529\u001b[0m     \u001b[0;32melif\u001b[0m \u001b[0misinstance\u001b[0m\u001b[0;34m(\u001b[0m\u001b[0mdata\u001b[0m\u001b[0;34m[\u001b[0m\u001b[0;36m0\u001b[0m\u001b[0;34m]\u001b[0m\u001b[0;34m,\u001b[0m \u001b[0mabc\u001b[0m\u001b[0;34m.\u001b[0m\u001b[0mMapping\u001b[0m\u001b[0;34m)\u001b[0m\u001b[0;34m:\u001b[0m\u001b[0;34m\u001b[0m\u001b[0;34m\u001b[0m\u001b[0m\n\u001b[0;32m--> 530\u001b[0;31m         return _list_of_dict_to_arrays(\n\u001b[0m\u001b[1;32m    531\u001b[0m             \u001b[0mdata\u001b[0m\u001b[0;34m,\u001b[0m \u001b[0mcolumns\u001b[0m\u001b[0;34m,\u001b[0m \u001b[0mcoerce_float\u001b[0m\u001b[0;34m=\u001b[0m\u001b[0mcoerce_float\u001b[0m\u001b[0;34m,\u001b[0m \u001b[0mdtype\u001b[0m\u001b[0;34m=\u001b[0m\u001b[0mdtype\u001b[0m\u001b[0;34m\u001b[0m\u001b[0;34m\u001b[0m\u001b[0m\n\u001b[1;32m    532\u001b[0m         )\n",
      "\u001b[0;32m~/anaconda3/lib/python3.8/site-packages/pandas/core/internals/construction.py\u001b[0m in \u001b[0;36m_list_of_dict_to_arrays\u001b[0;34m(data, columns, coerce_float, dtype)\u001b[0m\n\u001b[1;32m    641\u001b[0m         \u001b[0mgen\u001b[0m \u001b[0;34m=\u001b[0m \u001b[0;34m(\u001b[0m\u001b[0mlist\u001b[0m\u001b[0;34m(\u001b[0m\u001b[0mx\u001b[0m\u001b[0;34m.\u001b[0m\u001b[0mkeys\u001b[0m\u001b[0;34m(\u001b[0m\u001b[0;34m)\u001b[0m\u001b[0;34m)\u001b[0m \u001b[0;32mfor\u001b[0m \u001b[0mx\u001b[0m \u001b[0;32min\u001b[0m \u001b[0mdata\u001b[0m\u001b[0;34m)\u001b[0m\u001b[0;34m\u001b[0m\u001b[0;34m\u001b[0m\u001b[0m\n\u001b[1;32m    642\u001b[0m         \u001b[0msort\u001b[0m \u001b[0;34m=\u001b[0m \u001b[0;32mnot\u001b[0m \u001b[0many\u001b[0m\u001b[0;34m(\u001b[0m\u001b[0misinstance\u001b[0m\u001b[0;34m(\u001b[0m\u001b[0md\u001b[0m\u001b[0;34m,\u001b[0m \u001b[0mdict\u001b[0m\u001b[0;34m)\u001b[0m \u001b[0;32mfor\u001b[0m \u001b[0md\u001b[0m \u001b[0;32min\u001b[0m \u001b[0mdata\u001b[0m\u001b[0;34m)\u001b[0m\u001b[0;34m\u001b[0m\u001b[0;34m\u001b[0m\u001b[0m\n\u001b[0;32m--> 643\u001b[0;31m         \u001b[0mcolumns\u001b[0m \u001b[0;34m=\u001b[0m \u001b[0mlib\u001b[0m\u001b[0;34m.\u001b[0m\u001b[0mfast_unique_multiple_list_gen\u001b[0m\u001b[0;34m(\u001b[0m\u001b[0mgen\u001b[0m\u001b[0;34m,\u001b[0m \u001b[0msort\u001b[0m\u001b[0;34m=\u001b[0m\u001b[0msort\u001b[0m\u001b[0;34m)\u001b[0m\u001b[0;34m\u001b[0m\u001b[0;34m\u001b[0m\u001b[0m\n\u001b[0m\u001b[1;32m    644\u001b[0m \u001b[0;34m\u001b[0m\u001b[0m\n\u001b[1;32m    645\u001b[0m     \u001b[0;31m# assure that they are of the base dict class and not of derived\u001b[0m\u001b[0;34m\u001b[0m\u001b[0;34m\u001b[0m\u001b[0;34m\u001b[0m\u001b[0m\n",
      "\u001b[0;32mpandas/_libs/lib.pyx\u001b[0m in \u001b[0;36mpandas._libs.lib.fast_unique_multiple_list_gen\u001b[0;34m()\u001b[0m\n",
      "\u001b[0;32m~/anaconda3/lib/python3.8/site-packages/pandas/core/internals/construction.py\u001b[0m in \u001b[0;36m<genexpr>\u001b[0;34m(.0)\u001b[0m\n\u001b[1;32m    639\u001b[0m     \"\"\"\n\u001b[1;32m    640\u001b[0m     \u001b[0;32mif\u001b[0m \u001b[0mcolumns\u001b[0m \u001b[0;32mis\u001b[0m \u001b[0;32mNone\u001b[0m\u001b[0;34m:\u001b[0m\u001b[0;34m\u001b[0m\u001b[0;34m\u001b[0m\u001b[0m\n\u001b[0;32m--> 641\u001b[0;31m         \u001b[0mgen\u001b[0m \u001b[0;34m=\u001b[0m \u001b[0;34m(\u001b[0m\u001b[0mlist\u001b[0m\u001b[0;34m(\u001b[0m\u001b[0mx\u001b[0m\u001b[0;34m.\u001b[0m\u001b[0mkeys\u001b[0m\u001b[0;34m(\u001b[0m\u001b[0;34m)\u001b[0m\u001b[0;34m)\u001b[0m \u001b[0;32mfor\u001b[0m \u001b[0mx\u001b[0m \u001b[0;32min\u001b[0m \u001b[0mdata\u001b[0m\u001b[0;34m)\u001b[0m\u001b[0;34m\u001b[0m\u001b[0;34m\u001b[0m\u001b[0m\n\u001b[0m\u001b[1;32m    642\u001b[0m         \u001b[0msort\u001b[0m \u001b[0;34m=\u001b[0m \u001b[0;32mnot\u001b[0m \u001b[0many\u001b[0m\u001b[0;34m(\u001b[0m\u001b[0misinstance\u001b[0m\u001b[0;34m(\u001b[0m\u001b[0md\u001b[0m\u001b[0;34m,\u001b[0m \u001b[0mdict\u001b[0m\u001b[0;34m)\u001b[0m \u001b[0;32mfor\u001b[0m \u001b[0md\u001b[0m \u001b[0;32min\u001b[0m \u001b[0mdata\u001b[0m\u001b[0;34m)\u001b[0m\u001b[0;34m\u001b[0m\u001b[0;34m\u001b[0m\u001b[0m\n\u001b[1;32m    643\u001b[0m         \u001b[0mcolumns\u001b[0m \u001b[0;34m=\u001b[0m \u001b[0mlib\u001b[0m\u001b[0;34m.\u001b[0m\u001b[0mfast_unique_multiple_list_gen\u001b[0m\u001b[0;34m(\u001b[0m\u001b[0mgen\u001b[0m\u001b[0;34m,\u001b[0m \u001b[0msort\u001b[0m\u001b[0;34m=\u001b[0m\u001b[0msort\u001b[0m\u001b[0;34m)\u001b[0m\u001b[0;34m\u001b[0m\u001b[0;34m\u001b[0m\u001b[0m\n",
      "\u001b[0;31mAttributeError\u001b[0m: 'NoneType' object has no attribute 'keys'"
     ]
    }
   ],
   "source": [
    "similar_songs(\"https://open.spotify.com/playlist/3OCVYiGIqURhQO5TVbrK7A?si=0b38a71016da464a\",\n",
    "             \"https://open.spotify.com/playlist/0vvXsWCC9xrXsKd4FyS8kM?si=96fd28e8efc4481c\")"
   ]
  },
  {
   "cell_type": "code",
   "execution_count": null,
   "id": "d953ef8d",
   "metadata": {},
   "outputs": [],
   "source": []
  }
 ],
 "metadata": {
  "kernelspec": {
   "display_name": "Python 3",
   "language": "python",
   "name": "python3"
  },
  "language_info": {
   "codemirror_mode": {
    "name": "ipython",
    "version": 3
   },
   "file_extension": ".py",
   "mimetype": "text/x-python",
   "name": "python",
   "nbconvert_exporter": "python",
   "pygments_lexer": "ipython3",
   "version": "3.8.8"
  }
 },
 "nbformat": 4,
 "nbformat_minor": 5
}
